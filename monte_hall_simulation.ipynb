{
 "cells": [
  {
   "cell_type": "code",
   "execution_count": 2,
   "metadata": {},
   "outputs": [],
   "source": [
    "import random\n",
    "\n",
    "def pick_a_door():\n",
    "    \"\"\"\n",
    "    pick a door between 1 and 3\n",
    "    \"\"\"\n",
    "    return(random.randint(1,3))\n",
    "\n",
    "\n",
    "def remove_a_door(prize_door, contestant_door):\n",
    "    \"\"\"\n",
    "    remove a non-prize, non-contestant door\n",
    "    \"\"\"\n",
    "    removed = pick_a_door()\n",
    "    \n",
    "    while removed == prize_door or removed == contestant_door:\n",
    "        removed = pick_a_door()\n",
    "        \n",
    "    return(removed)\n",
    "\n",
    "\n",
    "def switch_the_door(prize_door, contestant_door, removed_door):\n",
    "    \"\"\"\n",
    "    which door would be switched too?\n",
    "    \"\"\"\n",
    "    doors = [1, 2, 3]\n",
    "\n",
    "    doors.remove(contestant_door)\n",
    "    doors.remove(removed_door)\n",
    "    \n",
    "    return(doors[0])\n",
    "   \n",
    "\n",
    "def run_simulation(number_of_iterations):\n",
    "    \"\"\"\n",
    "    run some number of iterations of the monty hall problem\n",
    "    \"\"\"\n",
    "    switch = stay = 0\n",
    "    \n",
    "    for x in range(number_of_iterations):\n",
    "        prize_door = pick_a_door()\n",
    "        contestant_door = pick_a_door()\n",
    "        removed_door = remove_a_door(prize_door, contestant_door)\n",
    "        switched_door = switch_the_door(prize_door, contestant_door, removed_door)\n",
    "        \n",
    "        if switched_door == prize_door:\n",
    "            switch += 1\n",
    "        else:\n",
    "            stay += 1\n",
    "            \n",
    "    print(f\"switch #/%: {switch} / {switch/number_of_iterations}, stay #/%: {stay} / {stay/number_of_iterations}\")\n",
    "    \n",
    "\n"
   ]
  },
  {
   "cell_type": "code",
   "execution_count": 3,
   "metadata": {},
   "outputs": [
    {
     "name": "stdout",
     "output_type": "stream",
     "text": [
      "switch #/%: 66936 / 0.66936, stay #/%: 33064 / 0.33064\n"
     ]
    }
   ],
   "source": [
    "run_simulation(100000)"
   ]
  }
 ],
 "metadata": {
  "kernelspec": {
   "display_name": "Python 3",
   "language": "python",
   "name": "python3"
  },
  "language_info": {
   "codemirror_mode": {
    "name": "ipython",
    "version": 3
   },
   "file_extension": ".py",
   "mimetype": "text/x-python",
   "name": "python",
   "nbconvert_exporter": "python",
   "pygments_lexer": "ipython3",
   "version": "3.7.0"
  }
 },
 "nbformat": 4,
 "nbformat_minor": 2
}
